{
 "cells": [
  {
   "cell_type": "code",
   "execution_count": 1,
   "id": "c5af38fe-258c-4d37-b9cd-6c11d808bf3c",
   "metadata": {},
   "outputs": [],
   "source": [
    "from datetime import datetime\n",
    "import pandas as pd\n",
    "import numpy as np\n",
    "import csv"
   ]
  },
  {
   "cell_type": "code",
   "execution_count": 2,
   "id": "d2434aa6-1da9-449a-a1a6-2b5e11c71033",
   "metadata": {},
   "outputs": [],
   "source": [
    "def add_expense():\n",
    "    # to excute date properly the below step written\n",
    "    while True:\n",
    "        user_input = input('Enter date of the expense in yyyy-mm-dd')\n",
    "        try:\n",
    "            user_date  = datetime.strptime(user_input,\"%Y-%m-%d\")\n",
    "            break\n",
    "        except ValueError:\n",
    "            print(\"Invalid date. Enter date in yyyy-mm-dd format.\")\n",
    "    # Category should be within the list so the below list written\n",
    "    category = [\n",
    "        \"Food\",\n",
    "        \"Travel\",\n",
    "        \"Entertainment\",\n",
    "        \"Utility\"]\n",
    "    \n",
    "    for c in category:\n",
    "        print(f\"{c}\")\n",
    "    \n",
    "    choice = input(\"Select your category: \")\n",
    "    while choice not in category:\n",
    "        choice = input(f\"Choose one of: {', '.join(category)}: \")\n",
    "        \n",
    "    amount = input('Enter the expense amount')\n",
    "    description = input('Enter the expense description')\n",
    "\n",
    "    expenses_dict = {'date': user_input, 'category': choice, 'amount': amount, 'description': description}\n",
    "    return expenses_dict\n",
    "\n",
    "def view_expenses():\n",
    "    # Function to check and fill missing data\n",
    "    def get_valid_input(field_name):\n",
    "        while True:\n",
    "            user_input = input(f\"Please enter {field_name}: \")\n",
    "            if user_input.strip():  # Ensure the input is not empty\n",
    "                return user_input\n",
    "            else:\n",
    "                print(f\"{field_name} cannot be empty. Please try again.\")\n",
    "    \n",
    "    # Read the CSV file\n",
    "    filename = 'Expense Tracker.csv'  # Replace with your file name\n",
    "    with open(filename, 'r') as file:\n",
    "        csv_reader = csv.DictReader(file)\n",
    "        \n",
    "        for row in csv_reader:\n",
    "            # Check for missing data and ask the user to input the missing values\n",
    "            if any(not row[column] for column in row):\n",
    "                print(\"Found missing data. Please provide the missing information.\")\n",
    "                \n",
    "                if not row['date']:\n",
    "                    row['date'] = get_valid_input('date')\n",
    "                if not row['category']:\n",
    "                    row['category'] = get_valid_input('category')\n",
    "                if not row['amount']:\n",
    "                    row['amount'] = get_valid_input('amount')\n",
    "                if not row['description']:\n",
    "                    row['description'] = get_valid_input('description')\n",
    "            \n",
    "            # Now, print the updated row\n",
    "            print(row)\n",
    "\n",
    "def budget_tracker():\n",
    "    budget = input('What is your monthly budget?')\n",
    "    all_expenses = load_data()\n",
    "    total_expenses = all_expenses['amount'].sum()\n",
    "    balance = budget - total_expenses\n",
    "    if balance < 0:\n",
    "        print('You have exceeded your budget!')\n",
    "    else:\n",
    "        print(f'You have {balance} left for the month')\n",
    "\n",
    "def save_data(expenses=None):\n",
    "    try:\n",
    "        new_data = pd.DataFrame([expenses])\n",
    "        try:\n",
    "            all_expenses = load_data()\n",
    "            all_expenses = pd.concat([all_expenses, new_data], ignore_index=True)\n",
    "            all_expenses.to_csv('Expense Tracker.csv', index = False)\n",
    "            print(\"Expenses saved\")\n",
    "        except FileNotFoundError:\n",
    "            all_expenses = new_data\n",
    "            all_expenses.to_csv('Expense Tracker.csv', index = False)\n",
    "            print(\"Expenses saved\")\n",
    "    except:\n",
    "        try:\n",
    "            all_expenses = load_data()\n",
    "            all_expenses.to_csv('Expense Tracker.csv', index = False)\n",
    "            print(\"Expenses saved\")\n",
    "        except FileNotFoundError:\n",
    "            print(\"No data to be saved\")\n",
    "\n",
    "def load_data():\n",
    "    all_expenses = pd.read_csv('Expense Tracker.csv')\n",
    "    return all_expenses"
   ]
  },
  {
   "cell_type": "code",
   "execution_count": 3,
   "id": "9accd742-903f-4ca4-bc77-f3932a259eb5",
   "metadata": {},
   "outputs": [],
   "source": [
    "def menu():\n",
    "    menu_detail = {1:'Add expense', 2:'View expenses', 3:'Track budget', 4:'Save expenses', 5:'Exit'}\n",
    "    for a,b in menu_detail.items():\n",
    "        print(f'{a}.{b}')\n",
    "    while True:\n",
    "        choice = int(input(\"Select any one option: \"))\n",
    "        while choice not in range(1,6):\n",
    "            choice = int(input(f\"Choose between 1 to 5\"))\n",
    "    \n",
    "        if choice == 1:\n",
    "            expenses = add_expense()\n",
    "        elif choice == 2:\n",
    "            view_expenses()\n",
    "        elif choice == 3:\n",
    "            budget_tracker()\n",
    "        elif choice == 4:\n",
    "            try:\n",
    "                save_data(expenses)\n",
    "            except NameError:\n",
    "                save_data()\n",
    "        else:\n",
    "            break"
   ]
  },
  {
   "cell_type": "code",
   "execution_count": 4,
   "id": "b0d8c571-aa54-404b-89c9-3a26eca3c0b7",
   "metadata": {},
   "outputs": [
    {
     "name": "stdout",
     "output_type": "stream",
     "text": [
      "1.Add expense\n",
      "2.View expenses\n",
      "3.Track budget\n",
      "4.Save expenses\n",
      "5.Exit\n"
     ]
    },
    {
     "name": "stdin",
     "output_type": "stream",
     "text": [
      "Select any one option:  2\n"
     ]
    },
    {
     "name": "stdout",
     "output_type": "stream",
     "text": [
      "{'date': '01-03-2025', 'category': 'Food', 'amount': '100', 'description': 'Lunch'}\n"
     ]
    },
    {
     "name": "stdin",
     "output_type": "stream",
     "text": [
      "Select any one option:  1\n",
      "Enter date of the expense in yyyy-mm-dd 2025-03-06\n"
     ]
    },
    {
     "name": "stdout",
     "output_type": "stream",
     "text": [
      "Food\n",
      "Travel\n",
      "Entertainment\n",
      "Utility\n"
     ]
    },
    {
     "name": "stdin",
     "output_type": "stream",
     "text": [
      "Select your category:  Travel\n",
      "Enter the expense amount 200\n",
      "Enter the expense description Thane west\n",
      "Select any one option:  2\n"
     ]
    },
    {
     "name": "stdout",
     "output_type": "stream",
     "text": [
      "{'date': '01-03-2025', 'category': 'Food', 'amount': '100', 'description': 'Lunch'}\n"
     ]
    },
    {
     "name": "stdin",
     "output_type": "stream",
     "text": [
      "Select any one option:  4\n"
     ]
    },
    {
     "name": "stdout",
     "output_type": "stream",
     "text": [
      "Expenses saved\n"
     ]
    },
    {
     "name": "stdin",
     "output_type": "stream",
     "text": [
      "Select any one option:  2\n"
     ]
    },
    {
     "name": "stdout",
     "output_type": "stream",
     "text": [
      "{'date': '01-03-2025', 'category': 'Food', 'amount': '100', 'description': 'Lunch'}\n",
      "{'date': '2025-03-06', 'category': 'Travel', 'amount': '200', 'description': 'Thane west'}\n"
     ]
    },
    {
     "name": "stdin",
     "output_type": "stream",
     "text": [
      "Select any one option:  5\n"
     ]
    }
   ],
   "source": [
    "menu()"
   ]
  },
  {
   "cell_type": "code",
   "execution_count": null,
   "id": "c93b982e-de37-4ef6-9e17-940a37b124a9",
   "metadata": {},
   "outputs": [],
   "source": []
  }
 ],
 "metadata": {
  "kernelspec": {
   "display_name": "Python 3 (ipykernel)",
   "language": "python",
   "name": "python3"
  },
  "language_info": {
   "codemirror_mode": {
    "name": "ipython",
    "version": 3
   },
   "file_extension": ".py",
   "mimetype": "text/x-python",
   "name": "python",
   "nbconvert_exporter": "python",
   "pygments_lexer": "ipython3",
   "version": "3.11.5"
  }
 },
 "nbformat": 4,
 "nbformat_minor": 5
}
